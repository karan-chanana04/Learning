{
 "cells": [
  {
   "cell_type": "markdown",
   "id": "f8d9a67b-feb4-420a-adf4-6ba82fc8fccf",
   "metadata": {},
   "source": [
    "1. Prerequisites — What to Set Up Before Training\n",
    "Development Environment\n",
    "\n",
    "Install VS Code with GitHub Copilot or AI-related extensions if available.\n",
    "\n",
    "Have Python 3.10+ installed and verify pip is working.\n",
    "\n",
    "Set up a virtual environment (venv or conda) for the training projects.\n",
    "\n",
    "Install langchain, openai, and crewai Python packages (if trainers share requirements early).\n",
    "\n",
    "Access & Accounts\n",
    "\n",
    "Create free accounts for:\n",
    "\n",
    "Pinecone (Vector DB)\n",
    "\n",
    "Firebase\n",
    "\n",
    "Any provided API keys (OpenAI, Anthropic, etc., if applicable)\n",
    "\n",
    "Basic Knowledge Prep\n",
    "\n",
    "Refresh understanding of:\n",
    "\n",
    "Rule-based AI (IF–THEN logic) vs. agentic AI (autonomous decision-making).\n",
    "\n",
    "Python basics — functions, API calls, JSON parsing.\n",
    "\n",
    "Git fundamentals (clone, commit, push, pull).\n",
    "\n"
   ]
  },
  {
   "cell_type": "code",
   "execution_count": null,
   "id": "a1bb39f8-567f-43bf-ba1a-657cad71e437",
   "metadata": {},
   "outputs": [],
   "source": [
    "!pip install gradio==3.38.0\n",
    "!pip install openai\n",
    "!pip install faiss-cpu==1.7.4\n",
    "!pip langchain\n",
    "!pip gradio_client==0.2.10\n",
    "!pip install langchain-community langchain-core\n",
    "!pip install langchain_huggingface\n",
    "!pip install langchain langchain-chroma langchain-openai"
   ]
  },
  {
   "cell_type": "code",
   "execution_count": null,
   "id": "40c9b600-46fb-4c18-bef6-47b6dfaebd31",
   "metadata": {},
   "outputs": [],
   "source": []
  }
 ],
 "metadata": {
  "kernelspec": {
   "display_name": "Python [conda env:base] *",
   "language": "python",
   "name": "conda-base-py"
  },
  "language_info": {
   "codemirror_mode": {
    "name": "ipython",
    "version": 3
   },
   "file_extension": ".py",
   "mimetype": "text/x-python",
   "name": "python",
   "nbconvert_exporter": "python",
   "pygments_lexer": "ipython3",
   "version": "3.12.7"
  }
 },
 "nbformat": 4,
 "nbformat_minor": 5
}
