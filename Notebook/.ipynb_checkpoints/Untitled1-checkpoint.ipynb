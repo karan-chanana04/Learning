{
 "cells": [
  {
   "cell_type": "code",
   "execution_count": 3,
   "id": "c67714a7-791e-4f7a-beb7-78d1eb18b397",
   "metadata": {},
   "outputs": [],
   "source": [
    "from openai import OpenAI"
   ]
  },
  {
   "cell_type": "code",
   "execution_count": null,
   "id": "19df2b4d-bed6-4953-b37f-232121e041bb",
   "metadata": {},
   "outputs": [],
   "source": []
  },
  {
   "cell_type": "markdown",
   "id": "fca703cc-dd84-451b-85b4-66a57edc4f0b",
   "metadata": {},
   "source": [
    "# User\n",
    "read from env variable"
   ]
  },
  {
   "cell_type": "markdown",
   "id": "78ff0d7c-f7f8-42c2-87b6-7ab5d2b16f4a",
   "metadata": {},
   "source": [
    "# Assistant\n",
    "# Reading from Environment Variables in Python\n",
    "\n",
    "To read from environment variables in Python, you can use the `os` module, which provides a way to interact with the operating system, including accessing environment variables.\n",
    "\n",
    "Here's how you can read environment variables in Python:\n"
   ]
  },
  {
   "cell_type": "code",
   "execution_count": 4,
   "id": "70750acc-2320-4518-bb56-5b259aa96eed",
   "metadata": {},
   "outputs": [
    {
     "name": "stdout",
     "output_type": "stream",
     "text": [
      "MY_VARIABLE is not set\n",
      "ANOTHER_VARIABLE is not set\n",
      "\n",
      "All environment variables:\n",
      "TERM_PROGRAM: Apple_Terminal\n",
      "SHELL: /bin/zsh\n",
      "TERM: xterm-color\n",
      "HOMEBREW_REPOSITORY: /opt/homebrew\n",
      "TMPDIR: /var/folders/hc/_nzb4lgs3vl7f22df0r_pj240000gn/T/\n",
      "CONDA_SHLVL: 1\n",
      "CONDA_PROMPT_MODIFIER: (base) \n",
      "TERM_PROGRAM_VERSION: 455.1\n",
      "GSETTINGS_SCHEMA_DIR_CONDA_BACKUP: \n",
      "TERM_SESSION_ID: CFB978A8-A434-4D4F-A7E3-0A1BA93EF507\n",
      "LC_ALL: en_US.UTF-8\n",
      "USER: karanchanana\n",
      "CONDA_EXE: /Users/karanchanana/anaconda3/bin/conda\n",
      "SSH_AUTH_SOCK: /private/tmp/com.apple.launchd.XfWg7U4Aqz/Listeners\n",
      "VIRTUAL_ENV: /Users/karanchanana/python-global-env\n",
      "_CE_CONDA: \n",
      "CONDA_ROOT: /Users/karanchanana/anaconda3\n",
      "PATH: /usr/local/opt/scala@2.13/bin:/usr/local/opt/scala@2.13/bin:/opt/homebrew/opt/scala@2.13/bin:/Users/karanchanana/python-global-env/bin:/opt/homebrew/bin:/Users/karanchanana/anaconda3/bin:/Library/Frameworks/Python.framework/Versions/3.9/bin:/opt/homebrew/bin:/opt/homebrew/sbin:/Library/Frameworks/Python.framework/Versions/3.12/bin:/usr/local/bin:/System/Cryptexes/App/usr/bin:/usr/bin:/bin:/usr/sbin:/sbin:/var/run/com.apple.security.cryptexd/codex.system/bootstrap/usr/local/bin:/var/run/com.apple.security.cryptexd/codex.system/bootstrap/usr/bin:/var/run/com.apple.security.cryptexd/codex.system/bootstrap/usr/appleinternal/bin\n",
      "GSETTINGS_SCHEMA_DIR: /Users/karanchanana/anaconda3/share/glib-2.0/schemas\n",
      "__CFBundleIdentifier: com.apple.Terminal\n",
      "CONDA_PREFIX: /Users/karanchanana/anaconda3\n",
      "PWD: /Users/karanchanana\n",
      "JAVA_HOME: /usr/local/Cellar/openjdk@11/11.0.23/libexec/openjdk.jdk/Contents/Home\n",
      "LANG: en_US.UTF-8\n",
      "EVENT_NOKQUEUE: 1\n",
      "XPC_FLAGS: 0x0\n",
      "XPC_SERVICE_NAME: 0\n",
      "_CE_M: \n",
      "HOME: /Users/karanchanana\n",
      "SHLVL: 3\n",
      "HOMEBREW_PREFIX: /opt/homebrew\n",
      "LOGNAME: karanchanana\n",
      "CONDA_PYTHON_EXE: /Users/karanchanana/anaconda3/bin/python\n",
      "ANACONDA_NAVIGATOR_VERSION: 2.6.6\n",
      "LC_CTYPE: C.UTF-8\n",
      "CONDA_DEFAULT_ENV: base\n",
      "INFOPATH: /opt/homebrew/share/info:\n",
      "HOMEBREW_CELLAR: /opt/homebrew/Cellar\n",
      "VIRTUAL_ENV_PROMPT: python-global-env\n",
      "_: /Users/karanchanana/anaconda3/bin/jupyter-notebook\n",
      "JPY_SESSION_NAME: /Users/karanchanana/Repos/Learning/Notebook/Untitled1.ipynb\n",
      "JPY_PARENT_PID: 26943\n",
      "SUBPROCESS_SENTRY_TRACE: a7d72cd85eed4f01969c09c12f977333-86393eafdd9e951f\n",
      "SUBPROCESS_BAGGAGE: sentry-trace_id=a7d72cd85eed4f01969c09c12f977333,sentry-environment=local_production,sentry-release=4.20.0,sentry-public_key=f175bff95ca4ae57c532f2bf67cbaa63\n",
      "PYDEVD_USE_FRAME_EVAL: NO\n",
      "CLICOLOR: 1\n",
      "FORCE_COLOR: 1\n",
      "CLICOLOR_FORCE: 1\n",
      "PAGER: cat\n",
      "GIT_PAGER: cat\n",
      "MPLBACKEND: module://matplotlib_inline.backend_inline\n"
     ]
    }
   ],
   "source": [
    "import os\n",
    "\n",
    "# Get the value of an environment variable\n",
    "my_var = os.environ.get('MY_VARIABLE')\n",
    "\n",
    "# If the variable exists, print its value\n",
    "if my_var is not None:\n",
    "    print(f\"The value of MY_VARIABLE is: {my_var}\")\n",
    "else:\n",
    "    print(\"MY_VARIABLE is not set\")\n",
    "\n",
    "# You can also access environment variables directly (but this raises KeyError if not found)\n",
    "try:\n",
    "    direct_var = os.environ['ANOTHER_VARIABLE']\n",
    "    print(f\"The value of ANOTHER_VARIABLE is: {direct_var}\")\n",
    "except KeyError:\n",
    "    print(\"ANOTHER_VARIABLE is not set\")\n",
    "\n",
    "# List all environment variables\n",
    "print(\"\\nAll environment variables:\")\n",
    "for key, value in os.environ.items():\n",
    "    print(f\"{key}: {value}\")"
   ]
  },
  {
   "cell_type": "markdown",
   "id": "3013be42-9d72-4796-95ec-c3a9cc59ac5e",
   "metadata": {},
   "source": [
    "\n",
    "This code demonstrates:\n",
    "1. Using `os.environ.get()` which safely returns `None` if the variable doesn't exist\n",
    "2. Using direct dictionary access with `os.environ['VAR_NAME']` (which raises an exception if not found)\n",
    "3. How to list all environment variables\n",
    "\n",
    "### Suggested Python Packages for Working with Environment Variables:\n",
    "\n",
    "1. **python-dotenv**: Loads environment variables from a `.env` file\n",
    "2. **environs**: Environment variables parsing with validation\n",
    "3. **pydantic**: For data validation that can read from environment variables\n",
    "4. **django-environ**: For Django projects to handle environment variables\n",
    "\n",
    "These packages can make working with environment variables more convenient, especially for configuration management in applications."
   ]
  },
  {
   "cell_type": "markdown",
   "id": "17b27af2-94fc-4bad-b538-b236915a8ce6",
   "metadata": {},
   "source": [
    "# User\n",
    "read from env variable"
   ]
  },
  {
   "cell_type": "markdown",
   "id": "07421f1c-b4b4-4d11-b9d5-f1cc3efe8284",
   "metadata": {},
   "source": [
    "# Assistant\n",
    "# Reading from Environment Variables in Python\n",
    "\n",
    "To read from environment variables in Python, you can use the `os` module, which provides a way to interact with the operating system, including accessing environment variables.\n",
    "\n",
    "Here's how you can read environment variables in Python:\n"
   ]
  },
  {
   "cell_type": "code",
   "execution_count": 5,
   "id": "d78dbf00-0cfd-4cef-bc22-a1d0294e9b23",
   "metadata": {},
   "outputs": [
    {
     "name": "stdout",
     "output_type": "stream",
     "text": [
      "MY_VARIABLE is not set\n",
      "ANOTHER_VARIABLE is not set\n",
      "\n",
      "All environment variables:\n",
      "TERM_PROGRAM: Apple_Terminal\n",
      "SHELL: /bin/zsh\n",
      "TERM: xterm-color\n",
      "HOMEBREW_REPOSITORY: /opt/homebrew\n",
      "TMPDIR: /var/folders/hc/_nzb4lgs3vl7f22df0r_pj240000gn/T/\n",
      "CONDA_SHLVL: 1\n",
      "CONDA_PROMPT_MODIFIER: (base) \n",
      "TERM_PROGRAM_VERSION: 455.1\n",
      "GSETTINGS_SCHEMA_DIR_CONDA_BACKUP: \n",
      "TERM_SESSION_ID: CFB978A8-A434-4D4F-A7E3-0A1BA93EF507\n",
      "LC_ALL: en_US.UTF-8\n",
      "USER: karanchanana\n",
      "CONDA_EXE: /Users/karanchanana/anaconda3/bin/conda\n",
      "SSH_AUTH_SOCK: /private/tmp/com.apple.launchd.XfWg7U4Aqz/Listeners\n",
      "VIRTUAL_ENV: /Users/karanchanana/python-global-env\n",
      "_CE_CONDA: \n",
      "CONDA_ROOT: /Users/karanchanana/anaconda3\n",
      "PATH: /usr/local/opt/scala@2.13/bin:/usr/local/opt/scala@2.13/bin:/opt/homebrew/opt/scala@2.13/bin:/Users/karanchanana/python-global-env/bin:/opt/homebrew/bin:/Users/karanchanana/anaconda3/bin:/Library/Frameworks/Python.framework/Versions/3.9/bin:/opt/homebrew/bin:/opt/homebrew/sbin:/Library/Frameworks/Python.framework/Versions/3.12/bin:/usr/local/bin:/System/Cryptexes/App/usr/bin:/usr/bin:/bin:/usr/sbin:/sbin:/var/run/com.apple.security.cryptexd/codex.system/bootstrap/usr/local/bin:/var/run/com.apple.security.cryptexd/codex.system/bootstrap/usr/bin:/var/run/com.apple.security.cryptexd/codex.system/bootstrap/usr/appleinternal/bin\n",
      "GSETTINGS_SCHEMA_DIR: /Users/karanchanana/anaconda3/share/glib-2.0/schemas\n",
      "__CFBundleIdentifier: com.apple.Terminal\n",
      "CONDA_PREFIX: /Users/karanchanana/anaconda3\n",
      "PWD: /Users/karanchanana\n",
      "JAVA_HOME: /usr/local/Cellar/openjdk@11/11.0.23/libexec/openjdk.jdk/Contents/Home\n",
      "LANG: en_US.UTF-8\n",
      "EVENT_NOKQUEUE: 1\n",
      "XPC_FLAGS: 0x0\n",
      "XPC_SERVICE_NAME: 0\n",
      "_CE_M: \n",
      "HOME: /Users/karanchanana\n",
      "SHLVL: 3\n",
      "HOMEBREW_PREFIX: /opt/homebrew\n",
      "LOGNAME: karanchanana\n",
      "CONDA_PYTHON_EXE: /Users/karanchanana/anaconda3/bin/python\n",
      "ANACONDA_NAVIGATOR_VERSION: 2.6.6\n",
      "LC_CTYPE: C.UTF-8\n",
      "CONDA_DEFAULT_ENV: base\n",
      "INFOPATH: /opt/homebrew/share/info:\n",
      "HOMEBREW_CELLAR: /opt/homebrew/Cellar\n",
      "VIRTUAL_ENV_PROMPT: python-global-env\n",
      "_: /Users/karanchanana/anaconda3/bin/jupyter-notebook\n",
      "JPY_SESSION_NAME: /Users/karanchanana/Repos/Learning/Notebook/Untitled1.ipynb\n",
      "JPY_PARENT_PID: 26943\n",
      "SUBPROCESS_SENTRY_TRACE: a7d72cd85eed4f01969c09c12f977333-86393eafdd9e951f\n",
      "SUBPROCESS_BAGGAGE: sentry-trace_id=a7d72cd85eed4f01969c09c12f977333,sentry-environment=local_production,sentry-release=4.20.0,sentry-public_key=f175bff95ca4ae57c532f2bf67cbaa63\n",
      "PYDEVD_USE_FRAME_EVAL: NO\n",
      "CLICOLOR: 1\n",
      "FORCE_COLOR: 1\n",
      "CLICOLOR_FORCE: 1\n",
      "PAGER: cat\n",
      "GIT_PAGER: cat\n",
      "MPLBACKEND: module://matplotlib_inline.backend_inline\n"
     ]
    }
   ],
   "source": [
    "import os\n",
    "\n",
    "# Get the value of an environment variable\n",
    "my_var = os.environ.get('MY_VARIABLE')\n",
    "\n",
    "# If the variable exists, print its value\n",
    "if my_var is not None:\n",
    "    print(f\"The value of MY_VARIABLE is: {my_var}\")\n",
    "else:\n",
    "    print(\"MY_VARIABLE is not set\")\n",
    "\n",
    "# You can also access environment variables directly (but this raises KeyError if not found)\n",
    "try:\n",
    "    direct_var = os.environ['ANOTHER_VARIABLE']\n",
    "    print(f\"The value of ANOTHER_VARIABLE is: {direct_var}\")\n",
    "except KeyError:\n",
    "    print(\"ANOTHER_VARIABLE is not set\")\n",
    "\n",
    "# List all environment variables\n",
    "print(\"\\nAll environment variables:\")\n",
    "for key, value in os.environ.items():\n",
    "    print(f\"{key}: {value}\")"
   ]
  },
  {
   "cell_type": "markdown",
   "id": "1b22dc33-1024-423a-8428-08cc0204ffff",
   "metadata": {},
   "source": [
    "\n",
    "This code demonstrates:\n",
    "1. Using `os.environ.get()` which safely returns `None` if the variable doesn't exist\n",
    "2. Using direct dictionary access with `os.environ['VAR_NAME']` (which raises an exception if not found)\n",
    "3. How to list all environment variables\n",
    "\n",
    "### Suggested Python Packages for Working with Environment Variables:\n",
    "\n",
    "1. **python-dotenv**: Loads environment variables from a `.env` file\n",
    "2. **environs**: Environment variables parsing with validation\n",
    "3. **pydantic**: For data validation that can read from environment variables\n",
    "4. **django-environ**: For Django projects to handle environment variables\n",
    "\n",
    "These packages can make working with environment variables more convenient, especially for configuration management in applications."
   ]
  },
  {
   "cell_type": "markdown",
   "id": "13f4e773-dfb2-4f06-aab0-7c3186489fec",
   "metadata": {},
   "source": [
    "# User\n",
    "read from project level env file Learning.env"
   ]
  },
  {
   "cell_type": "markdown",
   "id": "34933a92-d8b2-4145-bf1e-b7b8ea1113c9",
   "metadata": {},
   "source": [
    "# Assistant\n",
    "# Reading from a Project-Level .env File in Python\n",
    "\n",
    "To read from a specific environment file like \"Learning.env\" at the project level, you can use the `python-dotenv` package, which is designed for this purpose. Here's how to do it:\n"
   ]
  },
  {
   "cell_type": "code",
   "execution_count": 10,
   "id": "488ec1f7-f051-45f9-a65c-ff73344deb9b",
   "metadata": {},
   "outputs": [
    {
     "name": "stdout",
     "output_type": "stream",
     "text": [
      "Environment variables loaded from Learning.env:\n",
      "DB_HOST: None\n",
      "API_KEY: None\n",
      "DEBUG: False\n",
      "\n",
      "All environment variables from the file:\n",
      "TERM_PROGRAM: Apple_Terminal\n",
      "SHELL: /bin/zsh\n",
      "TERM: xterm-color\n",
      "HOMEBREW_REPOSITORY: /opt/homebrew\n",
      "TMPDIR: /var/folders/hc/_nzb4lgs3vl7f22df0r_pj240000gn/T/\n",
      "CONDA_SHLVL: 1\n",
      "CONDA_PROMPT_MODIFIER: (base) \n",
      "TERM_PROGRAM_VERSION: 455.1\n",
      "GSETTINGS_SCHEMA_DIR_CONDA_BACKUP: \n",
      "TERM_SESSION_ID: CFB978A8-A434-4D4F-A7E3-0A1BA93EF507\n",
      "LC_ALL: en_US.UTF-8\n",
      "USER: karanchanana\n",
      "CONDA_EXE: /Users/karanchanana/anaconda3/bin/conda\n",
      "SSH_AUTH_SOCK: /private/tmp/com.apple.launchd.XfWg7U4Aqz/Listeners\n",
      "VIRTUAL_ENV: /Users/karanchanana/python-global-env\n",
      "_CE_CONDA: \n",
      "CONDA_ROOT: /Users/karanchanana/anaconda3\n",
      "PATH: /usr/local/opt/scala@2.13/bin:/usr/local/opt/scala@2.13/bin:/opt/homebrew/opt/scala@2.13/bin:/Users/karanchanana/python-global-env/bin:/opt/homebrew/bin:/Users/karanchanana/anaconda3/bin:/Library/Frameworks/Python.framework/Versions/3.9/bin:/opt/homebrew/bin:/opt/homebrew/sbin:/Library/Frameworks/Python.framework/Versions/3.12/bin:/usr/local/bin:/System/Cryptexes/App/usr/bin:/usr/bin:/bin:/usr/sbin:/sbin:/var/run/com.apple.security.cryptexd/codex.system/bootstrap/usr/local/bin:/var/run/com.apple.security.cryptexd/codex.system/bootstrap/usr/bin:/var/run/com.apple.security.cryptexd/codex.system/bootstrap/usr/appleinternal/bin\n",
      "GSETTINGS_SCHEMA_DIR: /Users/karanchanana/anaconda3/share/glib-2.0/schemas\n",
      "__CFBundleIdentifier: com.apple.Terminal\n",
      "CONDA_PREFIX: /Users/karanchanana/anaconda3\n",
      "PWD: /Users/karanchanana\n",
      "JAVA_HOME: /usr/local/Cellar/openjdk@11/11.0.23/libexec/openjdk.jdk/Contents/Home\n",
      "LANG: en_US.UTF-8\n",
      "EVENT_NOKQUEUE: 1\n",
      "XPC_FLAGS: 0x0\n",
      "XPC_SERVICE_NAME: 0\n",
      "_CE_M: \n",
      "HOME: /Users/karanchanana\n",
      "SHLVL: 3\n",
      "HOMEBREW_PREFIX: /opt/homebrew\n",
      "LOGNAME: karanchanana\n",
      "CONDA_PYTHON_EXE: /Users/karanchanana/anaconda3/bin/python\n",
      "ANACONDA_NAVIGATOR_VERSION: 2.6.6\n",
      "LC_CTYPE: C.UTF-8\n",
      "CONDA_DEFAULT_ENV: base\n",
      "INFOPATH: /opt/homebrew/share/info:\n",
      "HOMEBREW_CELLAR: /opt/homebrew/Cellar\n",
      "VIRTUAL_ENV_PROMPT: python-global-env\n",
      "_: /Users/karanchanana/anaconda3/bin/jupyter-notebook\n",
      "JPY_SESSION_NAME: /Users/karanchanana/Repos/Learning/Notebook/Untitled1.ipynb\n",
      "JPY_PARENT_PID: 26943\n",
      "SUBPROCESS_SENTRY_TRACE: a7d72cd85eed4f01969c09c12f977333-86393eafdd9e951f\n",
      "SUBPROCESS_BAGGAGE: sentry-trace_id=a7d72cd85eed4f01969c09c12f977333,sentry-environment=local_production,sentry-release=4.20.0,sentry-public_key=f175bff95ca4ae57c532f2bf67cbaa63\n",
      "PYDEVD_USE_FRAME_EVAL: NO\n",
      "CLICOLOR: 1\n",
      "FORCE_COLOR: 1\n",
      "CLICOLOR_FORCE: 1\n",
      "PAGER: cat\n",
      "GIT_PAGER: cat\n",
      "MPLBACKEND: module://matplotlib_inline.backend_inline\n"
     ]
    },
    {
     "name": "stderr",
     "output_type": "stream",
     "text": [
      "<>:5: SyntaxWarning: invalid escape sequence '\\L'\n",
      "<>:5: SyntaxWarning: invalid escape sequence '\\L'\n",
      "/var/folders/hc/_nzb4lgs3vl7f22df0r_pj240000gn/T/ipykernel_27207/2676637892.py:5: SyntaxWarning: invalid escape sequence '\\L'\n",
      "  env_path = '..\\Learning.env'  # Adjust if the file is in a different directory\n"
     ]
    }
   ],
   "source": [
    "import os\n",
    "from dotenv import load_dotenv\n",
    "\n",
    "# Specify the path to your .env file\n",
    "env_path = 'learning_notebook.env'  # Adjust if the file is in a different directory\n",
    "\n",
    "# Load the environment variables from the specified file\n",
    "load_dotenv(dotenv_path=env_path)\n",
    "\n",
    "# Now you can access the variables using os.environ\n",
    "print(\"Environment variables loaded from Learning.env:\")\n",
    "\n",
    "# Example: Reading specific variables\n",
    "db_host = os.environ.get('DB_HOST')\n",
    "api_key = os.environ.get('API_KEY')\n",
    "debug_mode = os.environ.get('DEBUG', 'False')\n",
    "\n",
    "print(f\"DB_HOST: {db_host}\")\n",
    "print(f\"API_KEY: {api_key}\")\n",
    "print(f\"DEBUG: {debug_mode}\")\n",
    "\n",
    "# List all environment variables from the file\n",
    "print(\"\\nAll environment variables from the file:\")\n",
    "# This will show all env vars, not just those from the file\n",
    "# but the ones from the file will be included\n",
    "for key, value in os.environ.items():\n",
    "    # You might want to filter this list based on your needs\n",
    "    print(f\"{key}: {value}\")"
   ]
  },
  {
   "cell_type": "markdown",
   "id": "223ae474-cfa9-4a37-9e93-f3f0944fb9d9",
   "metadata": {},
   "source": [
    "\n",
    "Before running this code, make sure to:\n",
    "\n",
    "1. Install the required package:\n",
    "   "
   ]
  },
  {
   "cell_type": "markdown",
   "id": "3571e835-53dd-4515-8689-a7c9dc30f560",
   "metadata": {},
   "source": [
    "   pip install python-dotenv\n",
    "   "
   ]
  },
  {
   "cell_type": "markdown",
   "id": "ec150c2e-3f76-423a-b033-4f2540661f30",
   "metadata": {},
   "source": [
    "\n",
    "2. Create your \"Learning.env\" file in the project root with variables in this format:\n",
    "   "
   ]
  },
  {
   "cell_type": "markdown",
   "id": "a05e7b99-0100-4f2e-bf6a-024dd1e54c32",
   "metadata": {},
   "source": [
    "   DB_HOST=localhost\n",
    "   API_KEY=your_secret_key\n",
    "   DEBUG=True\n",
    "   "
   ]
  },
  {
   "cell_type": "markdown",
   "id": "a29b4317-40b9-4623-8d4d-690849f6a5c6",
   "metadata": {},
   "source": [
    "\n",
    "If your \"Learning.env\" file is in a different directory relative to your script, adjust the `env_path` variable accordingly, for example:\n",
    "- `env_path = os.path.join('config', 'Learning.env')` for a file in a config subdirectory\n",
    "- `env_path = os.path.join(os.path.dirname(__file__), 'Learning.env')` to reference the file relative to the script location\n",
    "\n",
    "The `python-dotenv` package is the most popular solution for this task, but alternatives include `environs` and `pydantic` if you need more advanced features like type validation."
   ]
  }
 ],
 "metadata": {
  "kernelspec": {
   "display_name": "Python [conda env:base] *",
   "language": "python",
   "name": "conda-base-py"
  },
  "language_info": {
   "codemirror_mode": {
    "name": "ipython",
    "version": 3
   },
   "file_extension": ".py",
   "mimetype": "text/x-python",
   "name": "python",
   "nbconvert_exporter": "python",
   "pygments_lexer": "ipython3",
   "version": "3.12.7"
  }
 },
 "nbformat": 4,
 "nbformat_minor": 5
}
